{
 "cells": [
  {
   "cell_type": "markdown",
   "metadata": {},
   "source": [
    "## Lectura documento txt"
   ]
  },
  {
   "cell_type": "code",
   "execution_count": 158,
   "metadata": {},
   "outputs": [],
   "source": [
    "#abrimos el documento\n",
    "\n",
    "with open('data_txt_reorder.txt','r') as file:\n",
    "    file_source = file.readlines() # Es una lista que cada línea del fichero txt como un \n",
    "    #string de todos los datos.\n",
    "\n",
    "#el archivo con el que trabajaremos es file_source"
   ]
  },
  {
   "cell_type": "markdown",
   "metadata": {},
   "source": [
    "Hemos abierto el archivo txt y lo hemos guardado en file_source"
   ]
  },
  {
   "cell_type": "markdown",
   "metadata": {},
   "source": [
    "## Realizaremos los cambios pedidos:\n",
    "\n",
    "-Contiene espacios extra en algunos strings, que deben ser eliminados\n",
    "\n",
    "-Contiene elementos como '\\n' que deben ser eliminados\n",
    "\n",
    "-Contiene elementos como '<' que deben ser cambiados por 'under'\n",
    "\n",
    "-Contiene elementos como null, que deben ser cambiados por 'NULL'"
   ]
  },
  {
   "cell_type": "code",
   "execution_count": 159,
   "metadata": {},
   "outputs": [],
   "source": [
    "#Hacemos una copia del archivo para trabajar con el\n",
    "copia1 = file_source.copy()\n"
   ]
  },
  {
   "cell_type": "code",
   "execution_count": 160,
   "metadata": {},
   "outputs": [],
   "source": [
    "\n",
    "\n",
    "#hacemos una funcion para poder usar replace en todos los elementos de la lista\n",
    "\n",
    "def limpieza_txt (lista):\n",
    "    \n",
    "    lista_filesource = [] #Creamos una lista vacia para apendear los resultados de nuestra funcion\n",
    "\n",
    "    for i in lista:\n",
    "        x = i.replace(\"\\n\", \"\").replace(\"null\", \"NULL\").replace(\"<\", \"under\")\n",
    "        lista_filesource.append(x)\n",
    "    return lista_filesource"
   ]
  },
  {
   "cell_type": "code",
   "execution_count": 161,
   "metadata": {},
   "outputs": [],
   "source": [
    "lista_sin_nulos = limpieza_txt(copia1) #llamaremos a nuestra lista limpia lista_sin_nulos\n"
   ]
  },
  {
   "cell_type": "code",
   "execution_count": 163,
   "metadata": {},
   "outputs": [],
   "source": [
    "#Creamos una funcion para quitar los espacios extra de los strings\n",
    "\n",
    "def limpiar_espacios_final(m):\n",
    "    \n",
    "    lista_terminada = []  #Aqui iremos metiendo los string despues de limpiarlos\n",
    "\n",
    "\n",
    "    for fila in m:   #vamos iterando por cada fila de la lista\n",
    "        \n",
    "        fila_lista = fila.split(\";\")\n",
    "        lista_sin_espacios= []\n",
    "        for palabra in fila_lista:  #iteramos por cada palabra dentro de cada fila\n",
    "            palabra_strip = palabra.strip()\n",
    "            lista_sin_espacios.append(palabra_strip)\n",
    "        \n",
    "        lista_terminada.append(\";\".join(lista_sin_espacios))\n",
    "    \n",
    "    return lista_terminada\n",
    "\n",
    "\n",
    "    \n",
    "    "
   ]
  },
  {
   "cell_type": "code",
   "execution_count": 164,
   "metadata": {},
   "outputs": [],
   "source": [
    "lista_limpia_total= limpiar_espacios_final(lista_sin_nulos)\n",
    "#nuestra lista_limpia_total ya no tiene ni elementos no deseados ni espacios redundantes"
   ]
  },
  {
   "cell_type": "code",
   "execution_count": 165,
   "metadata": {},
   "outputs": [],
   "source": [
    "#El ultimo paso es crear una lista de tuplas con los datos de nuestra lista limpia\n",
    "#Creamos una lista vacia para apendear las tuplas\n",
    "\n",
    "lista_sql = []\n",
    "\n",
    "#iteramos por cada elemento de la lista final \n",
    "\n",
    "for i in lista_limpia_total:\n",
    "    \n",
    "    tuple(i.split(\";\")) #convertimos en tupla cada elemento de la lista y las apendeamos en la lista sql\n",
    "    lista_sql.append(tuple(i.split(\";\")))"
   ]
  },
  {
   "cell_type": "markdown",
   "metadata": {},
   "source": [
    "En lista_sql ya tendremos los elementos limpios y convertidos en tuplas."
   ]
  }
 ],
 "metadata": {
  "kernelspec": {
   "display_name": "Python 3.9.7 ('base')",
   "language": "python",
   "name": "python3"
  },
  "language_info": {
   "codemirror_mode": {
    "name": "ipython",
    "version": 3
   },
   "file_extension": ".py",
   "mimetype": "text/x-python",
   "name": "python",
   "nbconvert_exporter": "python",
   "pygments_lexer": "ipython3",
   "version": "3.9.7"
  },
  "orig_nbformat": 4,
  "vscode": {
   "interpreter": {
    "hash": "3caf7024699363795119074055a58e45741f300ae36cbc0c7edc7c57844505fc"
   }
  }
 },
 "nbformat": 4,
 "nbformat_minor": 2
}
