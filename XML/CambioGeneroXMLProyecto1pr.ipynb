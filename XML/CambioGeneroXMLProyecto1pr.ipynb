{
 "cells": [
  {
   "cell_type": "markdown",
   "metadata": {},
   "source": [
    "En este documento vamos a hacer los cambios requeridos en xml: \n",
    "\n",
    "    Cambiar el numero de gender por el nombre correspondiente\n",
    "    \n",
    "    Eliminar el \"Level 0\""
   ]
  },
  {
   "cell_type": "code",
   "execution_count": null,
   "metadata": {},
   "outputs": [],
   "source": [
    "import re\n",
    "import os\n",
    "import xml.etree.ElementTree as ET\n",
    "\n",
    "tree = ET.parse('data_xml.xml')\n",
    "root = tree.getroot()\n",
    "\n",
    "\n",
    "xml_list = []\n",
    "for child in root:\n",
    "    xml_dict = {}\n",
    "    for subchild in child:\n",
    "        xml_dict[subchild.tag] = subchild.text\n",
    "    xml_list.append(xml_dict) # Es una lista que contiene diccionarios"
   ]
  },
  {
   "cell_type": "code",
   "execution_count": null,
   "metadata": {},
   "outputs": [],
   "source": [
    "#Hacemos la primera prueba, cogiendo solo un elemento del fichero \n",
    "xml_list [0]['gender'] = \"Man\""
   ]
  },
  {
   "cell_type": "code",
   "execution_count": 6,
   "metadata": {},
   "outputs": [
    {
     "data": {
      "text/plain": [
       "dict"
      ]
     },
     "execution_count": 6,
     "metadata": {},
     "output_type": "execute_result"
    }
   ],
   "source": [
    "type(xml_list)"
   ]
  },
  {
   "cell_type": "code",
   "execution_count": null,
   "metadata": {},
   "outputs": [],
   "source": [
    "#Nuestro fichero es una lista de diccionarios. \n",
    "#Hemos realizado una función iterando por los elementos de nuestra lista (que son diccionarios) y cambiando el value de la key \"gender\"\n",
    "#Hemos identificado una columna redundante, que era \"Level0\" y hemos utilizado un bucle for tambien para que lo elimine en todos los diccionarios.\n",
    "\n",
    "def limpieza_xml (lista):\n",
    "    for diccionario in lista:\n",
    "\n",
    "        if diccionario['gender'] == \"0\" :\n",
    "            diccionario[\"gender\"] = \"Man\"\n",
    "        elif diccionario[\"gender\"] == \"1\":\n",
    "            diccionario[\"gender\"] = \"Woman\"\n",
    "        elif diccionario['gender'] == \"2\":\n",
    "            diccionario['gender'] = \"Nonbinary\"\n",
    "        elif diccionario['gender'] == \"3\":\n",
    "            diccionario['gender'] = \"Prefer not to say\"\n",
    "        elif diccionario['gender'] == \"4\":\n",
    "            diccionario['gender'] = \"Prefer to self-describe\"\n",
    "    \n",
    "    for diccionario in lista:\n",
    "        diccionario.pop(\"level_0\")\n",
    "\n",
    "    return lista\n",
    "    \n"
   ]
  },
  {
   "cell_type": "code",
   "execution_count": null,
   "metadata": {},
   "outputs": [],
   "source": [
    "limpieza_xml(xml_list)"
   ]
  }
 ],
 "metadata": {
  "kernelspec": {
   "display_name": "Python 3.6.9 64-bit",
   "language": "python",
   "name": "python3"
  },
  "language_info": {
   "codemirror_mode": {
    "name": "ipython",
    "version": 3
   },
   "file_extension": ".py",
   "mimetype": "text/x-python",
   "name": "python",
   "nbconvert_exporter": "python",
   "pygments_lexer": "ipython3",
   "version": "3.6.9"
  },
  "orig_nbformat": 4,
  "vscode": {
   "interpreter": {
    "hash": "31f2aee4e71d21fbe5cf8b01ff0e069b9275f58929596ceb00d14d90e3e16cd6"
   }
  }
 },
 "nbformat": 4,
 "nbformat_minor": 2
}
