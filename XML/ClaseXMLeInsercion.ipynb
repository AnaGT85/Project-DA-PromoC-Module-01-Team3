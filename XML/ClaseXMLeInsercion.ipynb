{
 "cells": [
  {
   "cell_type": "markdown",
   "metadata": {},
   "source": [
    "Nos han proporcionado un archivo xml para que abramos, leamos, modifiquemos e insertemos los datos en la tabla que tenemos creada en nuestra base de datos.\n",
    "\n",
    "Vamos a crear una clase que recoja todos estos cambios que debemos realizar asi como la apertura del archivo.\n",
    "\n",
    "Los cambios son eliminar la columna rebundante y modificar el genero para que aparezca como un string en vez de valor numerico "
   ]
  },
  {
   "cell_type": "code",
   "execution_count": 1,
   "metadata": {},
   "outputs": [],
   "source": [
    "import re\n",
    "import os\n",
    "import pandas as pd\n",
    "import xml.etree.ElementTree as ET\n",
    "\n",
    "#Creamos la clase que unira las funciones de lectura del archivo y limpieza\n",
    "\n",
    "class Limpiar_xml:\n",
    "\n",
    "    def __init__ (self,nombre_archivo):\n",
    "        self.nombre_archivo = nombre_archivo\n",
    "\n",
    "    def lectura_xml(self):  #abrimos el archivo \n",
    "\n",
    "        tree = ET.parse(self.nombre_archivo)\n",
    "        root = tree.getroot()\n",
    "        \n",
    "        self.xml_lista = []\n",
    "\n",
    "        for child in root:\n",
    "            xml_dict = {}\n",
    "            for subchild in child: \n",
    "                xml_dict[subchild.tag] = subchild.text\n",
    "            self.xml_lista.append(xml_dict)\n",
    "        return self.xml_lista\n",
    "\n",
    "    def limpieza_xml (self, xml_lista):   #con esta funcion cambiamos los valores de la columna gender\n",
    "        self.xml_lista = xml_lista\n",
    "        for diccionario in xml_lista:\n",
    "\n",
    "            if diccionario['gender'] == \"0\" :\n",
    "                diccionario[\"gender\"] = \"Man\"\n",
    "            elif diccionario[\"gender\"] == \"1\":\n",
    "                diccionario[\"gender\"] = \"Woman\"\n",
    "            elif diccionario['gender'] == \"2\":\n",
    "                diccionario['gender'] = \"Nonbinary\"\n",
    "            elif diccionario['gender'] == \"3\":\n",
    "                diccionario['gender'] = \"Prefer not to say\"\n",
    "            elif diccionario['gender'] == \"4\":\n",
    "                diccionario['gender'] = \"Prefer to self-describe\"\n",
    "    \n",
    "        for diccionario in xml_lista:   #y eliminamos la columna redundante\n",
    "            diccionario.pop(\"level_0\")\n",
    "\n",
    "        return self.xml_lista\n",
    "\n",
    "    def sacar_values(self, xml_lista):   #Cuando ya tenemos el archivo limpio con los cambios pedidos hacemos una lista de tuplas para poder introducir los datos en la base de datos\n",
    "        self.xml_lista = xml_lista\n",
    "\n",
    "        values = []\n",
    "        for i in xml_lista:\n",
    "            values.append(tuple(i.values()))\n",
    "        return values\n",
    "\n",
    "    \n",
    "\n"
   ]
  },
  {
   "cell_type": "code",
   "execution_count": 2,
   "metadata": {},
   "outputs": [],
   "source": [
    "xml_clase = Limpiar_xml(\"data_xml.xml\")"
   ]
  },
  {
   "cell_type": "code",
   "execution_count": 3,
   "metadata": {},
   "outputs": [],
   "source": [
    "fichero_xml = xml_clase.lectura_xml()"
   ]
  },
  {
   "cell_type": "code",
   "execution_count": 4,
   "metadata": {},
   "outputs": [],
   "source": [
    "xml_limpio = xml_clase.limpieza_xml(fichero_xml)"
   ]
  },
  {
   "cell_type": "code",
   "execution_count": 5,
   "metadata": {},
   "outputs": [],
   "source": [
    "xml_tuplas = xml_clase.sacar_values(xml_limpio)"
   ]
  },
  {
   "cell_type": "code",
   "execution_count": 8,
   "metadata": {},
   "outputs": [],
   "source": [
    "#Creamos una funcion para introducir los datos a la tabla correspondiente en nuestra base de datos\n",
    "\n",
    "def importar_datos (xml_tuplas):\n",
    "    import mysql.connector\n",
    "    cnx = mysql.connector.connect(user='root', password='alumnaadalab',\n",
    "                              host='127.0.0.1', database='proyecto1')\n",
    "    mycursor = cnx.cursor()\n",
    "\n",
    "    sql = \"INSERT INTO tabla_xml (index_xml,time,age,gender) VALUES (%s,%s,%s,%s)\"\n",
    "    val = xml_tuplas\n",
    "    try:\n",
    "        mycursor.executemany(sql, val)\n",
    "        cnx.commit()\n",
    "        print(mycursor.rowcount, \"registro/s insertado/s.\")\n",
    "    except mysql.connector.Error as err:\n",
    "        print(err)\n",
    "        print(\"Error Code:\", err.errno)\n",
    "        print(\"SQLSTATE\", err.sqlstate)\n",
    "        print(\"Message\", err.msg)"
   ]
  },
  {
   "cell_type": "code",
   "execution_count": 9,
   "metadata": {},
   "outputs": [
    {
     "name": "stdout",
     "output_type": "stream",
     "text": [
      "25972 registro/s insertado/s.\n"
     ]
    }
   ],
   "source": [
    "#llamamos a la funcion y ya tenemos los registros introducidos\n",
    "importar_datos(xml_tuplas)"
   ]
  },
  {
   "cell_type": "markdown",
   "metadata": {},
   "source": [
    "Para poder ver mejor nuestra tabla, vamos a mostrarla con la libreria pandas"
   ]
  },
  {
   "cell_type": "code",
   "execution_count": 11,
   "metadata": {},
   "outputs": [],
   "source": [
    "#Realizamos la conexion con la base de datos y la importacion de la libreria\n",
    "import mysql.connector\n",
    "\n",
    "from mysql.connector import errorcode\n",
    "\n",
    "cnx = mysql.connector.connect(user='root', password='alumnaadalab',\n",
    "                              host='127.0.0.1',\n",
    "                              database='proyecto1')\n",
    "\n",
    "# iniciamos el cursor\n",
    "mycursor = cnx.cursor()\n",
    "\n",
    "# ejecutamos nuestra query\n",
    "mycursor.execute(\"SELECT * FROM tabla_xml\")\n",
    "\n",
    "# le decimos que nos devuelva todos los resultados y los almacenamos en una variable llamada myresult\n",
    "myresult = mycursor.fetchall()\n",
    "\n",
    "#Creamos un dataframe con los resultados de la consulta SQL almacenados en myresult. \n",
    "df = pd.DataFrame(myresult, columns = ['index_xml', 'time', 'age','gender','index_sql'])\n",
    "\n",
    "#Cerramos la conexion\n",
    "cnx.close()"
   ]
  },
  {
   "cell_type": "code",
   "execution_count": 12,
   "metadata": {},
   "outputs": [
    {
     "data": {
      "text/html": [
       "<div>\n",
       "<style scoped>\n",
       "    .dataframe tbody tr th:only-of-type {\n",
       "        vertical-align: middle;\n",
       "    }\n",
       "\n",
       "    .dataframe tbody tr th {\n",
       "        vertical-align: top;\n",
       "    }\n",
       "\n",
       "    .dataframe thead th {\n",
       "        text-align: right;\n",
       "    }\n",
       "</style>\n",
       "<table border=\"1\" class=\"dataframe\">\n",
       "  <thead>\n",
       "    <tr style=\"text-align: right;\">\n",
       "      <th></th>\n",
       "      <th>index_xml</th>\n",
       "      <th>time</th>\n",
       "      <th>age</th>\n",
       "      <th>gender</th>\n",
       "      <th>index_sql</th>\n",
       "    </tr>\n",
       "  </thead>\n",
       "  <tbody>\n",
       "    <tr>\n",
       "      <th>0</th>\n",
       "      <td>1</td>\n",
       "      <td>784</td>\n",
       "      <td>50-54</td>\n",
       "      <td>Man</td>\n",
       "      <td>None</td>\n",
       "    </tr>\n",
       "    <tr>\n",
       "      <th>1</th>\n",
       "      <td>2</td>\n",
       "      <td>924</td>\n",
       "      <td>22-24</td>\n",
       "      <td>Man</td>\n",
       "      <td>None</td>\n",
       "    </tr>\n",
       "    <tr>\n",
       "      <th>2</th>\n",
       "      <td>3</td>\n",
       "      <td>575</td>\n",
       "      <td>45-49</td>\n",
       "      <td>Man</td>\n",
       "      <td>None</td>\n",
       "    </tr>\n",
       "    <tr>\n",
       "      <th>3</th>\n",
       "      <td>4</td>\n",
       "      <td>781</td>\n",
       "      <td>45-49</td>\n",
       "      <td>Man</td>\n",
       "      <td>None</td>\n",
       "    </tr>\n",
       "    <tr>\n",
       "      <th>4</th>\n",
       "      <td>5</td>\n",
       "      <td>1020</td>\n",
       "      <td>25-29</td>\n",
       "      <td>Woman</td>\n",
       "      <td>None</td>\n",
       "    </tr>\n",
       "  </tbody>\n",
       "</table>\n",
       "</div>"
      ],
      "text/plain": [
       "   index_xml  time    age gender index_sql\n",
       "0          1   784  50-54    Man      None\n",
       "1          2   924  22-24    Man      None\n",
       "2          3   575  45-49    Man      None\n",
       "3          4   781  45-49    Man      None\n",
       "4          5  1020  25-29  Woman      None"
      ]
     },
     "execution_count": 12,
     "metadata": {},
     "output_type": "execute_result"
    }
   ],
   "source": [
    "#mostramos un ejemplo\n",
    "df.head()"
   ]
  }
 ],
 "metadata": {
  "kernelspec": {
   "display_name": "Python 3.10.6 64-bit",
   "language": "python",
   "name": "python3"
  },
  "language_info": {
   "codemirror_mode": {
    "name": "ipython",
    "version": 3
   },
   "file_extension": ".py",
   "mimetype": "text/x-python",
   "name": "python",
   "nbconvert_exporter": "python",
   "pygments_lexer": "ipython3",
   "version": "3.10.6"
  },
  "orig_nbformat": 4,
  "vscode": {
   "interpreter": {
    "hash": "369f2c481f4da34e4445cda3fffd2e751bd1c4d706f27375911949ba6bb62e1c"
   }
  }
 },
 "nbformat": 4,
 "nbformat_minor": 2
}
