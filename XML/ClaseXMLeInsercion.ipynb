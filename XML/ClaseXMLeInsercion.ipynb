{
 "cells": [
  {
   "cell_type": "code",
   "execution_count": null,
   "metadata": {},
   "outputs": [],
   "source": []
  },
  {
   "cell_type": "code",
   "execution_count": 4,
   "metadata": {},
   "outputs": [],
   "source": [
    "import re\n",
    "import os\n",
    "import pandas as pd\n",
    "import xml.etree.ElementTree as ET\n",
    "\n",
    "\n",
    "class Limpiar_xml:\n",
    "\n",
    "    def __init__ (self,nombre_archivo):\n",
    "        self.nombre_archivo = nombre_archivo\n",
    "\n",
    "    def lectura_xml(self):\n",
    "\n",
    "        tree = ET.parse(self.nombre_archivo)\n",
    "        root = tree.getroot()\n",
    "        \n",
    "        self.xml_lista = []\n",
    "\n",
    "        for child in root:\n",
    "            xml_dict = {}\n",
    "            for subchild in child: \n",
    "                xml_dict[subchild.tag] = subchild.text\n",
    "            self.xml_lista.append(xml_dict)\n",
    "        return self.xml_lista\n",
    "\n",
    "    def limpieza_xml (self, xml_lista):\n",
    "        self.xml_lista = xml_lista\n",
    "        for diccionario in xml_lista:\n",
    "\n",
    "            if diccionario['gender'] == \"0\" :\n",
    "                diccionario[\"gender\"] = \"Man\"\n",
    "            elif diccionario[\"gender\"] == \"1\":\n",
    "                diccionario[\"gender\"] = \"Woman\"\n",
    "            elif diccionario['gender'] == \"2\":\n",
    "                diccionario['gender'] = \"Nonbinary\"\n",
    "            elif diccionario['gender'] == \"3\":\n",
    "                diccionario['gender'] = \"Prefer not to say\"\n",
    "            elif diccionario['gender'] == \"4\":\n",
    "                diccionario['gender'] = \"Prefer to self-describe\"\n",
    "    \n",
    "        for diccionario in xml_lista:\n",
    "            diccionario.pop(\"level_0\")\n",
    "\n",
    "        return self.xml_lista\n",
    "\n",
    "    def sacar_values(self, xml_lista): \n",
    "        self.xml_lista = xml_lista\n",
    "\n",
    "        values = []\n",
    "        for i in xml_lista:\n",
    "            values.append(tuple(i.values()))\n",
    "        return values\n",
    "\n",
    "    \n",
    "\n"
   ]
  },
  {
   "cell_type": "code",
   "execution_count": 5,
   "metadata": {},
   "outputs": [],
   "source": [
    "xml_clase = Limpiar_xml(\"data_xml.xml\")"
   ]
  },
  {
   "cell_type": "code",
   "execution_count": 6,
   "metadata": {},
   "outputs": [],
   "source": [
    "fichero_xml = xml_clase.lectura_xml()"
   ]
  },
  {
   "cell_type": "code",
   "execution_count": 7,
   "metadata": {},
   "outputs": [],
   "source": [
    "xml_limpio = xml_clase.limpieza_xml(fichero_xml)"
   ]
  },
  {
   "cell_type": "code",
   "execution_count": 9,
   "metadata": {},
   "outputs": [],
   "source": [
    "xml_tuplas = xml_clase.sacar_values(xml_limpio)"
   ]
  },
  {
   "cell_type": "code",
   "execution_count": 11,
   "metadata": {},
   "outputs": [],
   "source": [
    "def importar_datos (xml_tuplas):\n",
    "    import mysql.connector\n",
    "    cnx = mysql.connector.connect(user='root', password='AlumnaAdalab',\n",
    "                              host='127.0.0.1', database='proyecto1')\n",
    "    mycursor = cnx.cursor()\n",
    "\n",
    "    sql = \"INSERT INTO tabla_xml (index_xml,time,age,gender) VALUES (%s,%s,%s,%s)\"\n",
    "    val = xml_tuplas\n",
    "    try:\n",
    "        mycursor.executemany(sql, val)\n",
    "        cnx.commit()\n",
    "        print(mycursor.rowcount, \"registro/s insertado/s.\")\n",
    "    except mysql.connector.Error as err:\n",
    "        print(err)\n",
    "        print(\"Error Code:\", err.errno)\n",
    "        print(\"SQLSTATE\", err.sqlstate)\n",
    "        print(\"Message\", err.msg)"
   ]
  },
  {
   "cell_type": "code",
   "execution_count": 12,
   "metadata": {},
   "outputs": [
    {
     "name": "stdout",
     "output_type": "stream",
     "text": [
      "25972 registro/s insertado/s.\n"
     ]
    }
   ],
   "source": [
    "importar_datos(xml_tuplas)"
   ]
  }
 ],
 "metadata": {
  "kernelspec": {
   "display_name": "Python 3.9.7 ('base')",
   "language": "python",
   "name": "python3"
  },
  "language_info": {
   "codemirror_mode": {
    "name": "ipython",
    "version": 3
   },
   "file_extension": ".py",
   "mimetype": "text/x-python",
   "name": "python",
   "nbconvert_exporter": "python",
   "pygments_lexer": "ipython3",
   "version": "3.9.7"
  },
  "orig_nbformat": 4,
  "vscode": {
   "interpreter": {
    "hash": "3caf7024699363795119074055a58e45741f300ae36cbc0c7edc7c57844505fc"
   }
  }
 },
 "nbformat": 4,
 "nbformat_minor": 2
}
