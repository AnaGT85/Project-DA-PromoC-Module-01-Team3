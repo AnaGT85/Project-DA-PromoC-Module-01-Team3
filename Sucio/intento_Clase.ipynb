{
 "cells": [
  {
   "cell_type": "code",
   "execution_count": 27,
   "metadata": {},
   "outputs": [],
   "source": [
    "import os"
   ]
  },
  {
   "cell_type": "code",
   "execution_count": 28,
   "metadata": {},
   "outputs": [],
   "source": [
    "with open('data_txt_reorder.txt','r') as file:\n",
    "    file_source = file.readlines()"
   ]
  },
  {
   "cell_type": "code",
   "execution_count": 42,
   "metadata": {},
   "outputs": [],
   "source": [
    "####PENDIENTE PROBAR LO COMENTADO!!!\n",
    "class FicheroDatos_txt:\n",
    "    \n",
    "        def __init__(self, archivo):\n",
    "            #self.ruta=ruta\n",
    "            self.archivo=archivo\n",
    "\n",
    "        def limpieza_txt (self):\n",
    "            file_source= self.file_source()\n",
    "\n",
    "            lista_filesource = [] \n",
    "\n",
    "            for i in file_source:\n",
    "                x = i.replace(\"\\n\", \"\").replace(\"null\", \"NULL\").replace(\"<\", \"under\")\n",
    "                lista_filesource.append(x)\n",
    "            return lista_filesource\n",
    "\n",
    "#### pendiente probar : self.limpieza_txt = limpieza y meter en la variable siguiente\n",
    "    \n",
    "        def limpiar_espacios_final(limpieza):\n",
    "            lista_filesource=self.limpieza_txt()\n",
    "\n",
    "            lista_terminada = []  \n",
    "\n",
    "\n",
    "            for fila in lista_filesource :   #vamos iterando por cada fila de la lista\n",
    "                \n",
    "                fila_lista = fila.split(\";\")\n",
    "                lista_sin_espacios= []\n",
    "                for palabra in fila_lista:  #iteramos por cada palabra dentro de cada fila\n",
    "                    palabra_strip = palabra.strip()\n",
    "                    lista_sin_espacios.append(palabra_strip)\n",
    "                \n",
    "                lista_terminada.append(\";\".join(lista_sin_espacios))\n",
    "            \n",
    "            return lista_terminada\n",
    "\n",
    "#### pendiente probar : self.lista_terminada = lista y meter en la siguiente\n",
    "\n",
    "        def tuplear (lista):\n",
    "            lista_terminada=self.limpiar_espacios_final()\n",
    "\n",
    "            lista_sql = []\n",
    "            for i in lista_terminada:\n",
    "        \n",
    "                tuple(i.split(\";\")) #convertimos en tupla cada elemento de la lista y las apendeamos en la lista sql\n",
    "                lista_sql.append(tuple(i.split(\";\")))\n",
    "            return lista_sql"
   ]
  },
  {
   "cell_type": "code",
   "execution_count": null,
   "metadata": {},
   "outputs": [],
   "source": [
    "fichero_adalab = FicheroDatos_txt (file_source)\n",
    "file_source\n"
   ]
  },
  {
   "cell_type": "code",
   "execution_count": null,
   "metadata": {},
   "outputs": [],
   "source": [
    "\n",
    "def insercion_datos_txt (self, sql, registros):\n",
    "        \n",
    "        import mysql.connector\n",
    "        cnx = mysql.connector.connect(user='root', password='AlumnaAdalab',\n",
    "                                host='127.0.0.1', database='proyecto1')\n",
    "        mycursor = cnx.cursor()\n",
    "        sql = \"\"\"INSERT INTO tabla_txt(index_sql,Q3,Q4,Q5,Q6,Q7,Q8,Q9,Q11,Q12,Q13,Q14,Q15,Q16,Q17,Q20,Q21,Q22,Q23,Q24,Q25,Q26,Q32,Q33,Q34,Q35,Q41) VALUES (%s,%s,%s,%s,%s,%s,%s,%s,%s,%s,%s,%s,%s,%s,%s,%s,%s,%s,%s,%s,%s,%s,%s,%s,%s,%s,%s)\"\"\"\n",
    "        val = registros\n",
    "        try:\n",
    "            mycursor.executemany(sql, val)\n",
    "            cnx.commit()\n",
    "            print(mycursor.rowcount, \"registro/s insertado/s.\")\n",
    "        except mysql.connector.Error as err:\n",
    "            print(err)\n",
    "            print(\"Error Code:\", err.errno)\n",
    "            print(\"SQLSTATE\", err.sqlstate)\n",
    "            print(\"Message\", err.msg)"
   ]
  }
 ],
 "metadata": {
  "kernelspec": {
   "display_name": "Python 3.9.7 ('base')",
   "language": "python",
   "name": "python3"
  },
  "language_info": {
   "codemirror_mode": {
    "name": "ipython",
    "version": 3
   },
   "file_extension": ".py",
   "mimetype": "text/x-python",
   "name": "python",
   "nbconvert_exporter": "python",
   "pygments_lexer": "ipython3",
   "version": "3.9.7"
  },
  "orig_nbformat": 4,
  "vscode": {
   "interpreter": {
    "hash": "e61300d61847ccc4b73188ddef9738f9820dab90378395ffa79ee755f5db208e"
   }
  }
 },
 "nbformat": 4,
 "nbformat_minor": 2
}
