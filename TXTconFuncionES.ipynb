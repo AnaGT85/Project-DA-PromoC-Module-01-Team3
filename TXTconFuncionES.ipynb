{
 "cells": [
  {
   "cell_type": "markdown",
   "metadata": {},
   "source": [
    "## Lectura documento txt"
   ]
  },
  {
   "cell_type": "code",
   "execution_count": null,
   "metadata": {},
   "outputs": [],
   "source": [
    "with open('data_txt_reorder.txt','r') as file:\n",
    "    file_source = file.readlines() # Es una lista que cada línea del fichero txt como un string de todos los datos."
   ]
  },
  {
   "cell_type": "markdown",
   "metadata": {},
   "source": [
    "Hemos abierto el archivo txt y lo hemos guardado en file_source"
   ]
  },
  {
   "cell_type": "markdown",
   "metadata": {},
   "source": [
    "## Realizaremos los cambios pedidos:\n",
    "\n",
    "-Contiene espacios extra en algunos strings, que deben ser eliminados\n",
    "\n",
    "-Contiene elementos como '\\n' que deben ser eliminados\n",
    "\n",
    "-Contiene elementos como '<' que deben ser cambiados por 'under'\n",
    "\n",
    "-Contiene elementos como null, que deben ser cambiados por 'NULL'"
   ]
  },
  {
   "cell_type": "code",
   "execution_count": null,
   "metadata": {},
   "outputs": [],
   "source": [
    "#Hacemos una copia del archivo para trabajar con el\n",
    "copia1 = file_source.copy()\n"
   ]
  },
  {
   "cell_type": "code",
   "execution_count": null,
   "metadata": {},
   "outputs": [],
   "source": [
    "#Creamos una lista vacia para apendear los resultados de nuestra funcion de \"reemplazo\"\n",
    "lista_filesource = []\n",
    "\n",
    "#hacemos una funcion para poder usar replace en todos los elementos de la lista\n",
    "\n",
    "def limpieza_txt (lista):\n",
    "    for i in copia1:\n",
    "        x = i.replace(\"\\n\", \"\").replace(\"null\", \"NULL\").replace(\"<\", \"under\")\n",
    "        lista_filesource.append(x)\n",
    "    return lista_filesource"
   ]
  },
  {
   "cell_type": "code",
   "execution_count": null,
   "metadata": {},
   "outputs": [],
   "source": [
    "lista_filesource = limpieza_txt(copia1)"
   ]
  },
  {
   "cell_type": "code",
   "execution_count": null,
   "metadata": {},
   "outputs": [],
   "source": [
    "#Comprobamos que los cambios de han realizado, nuestra lista \"limpia\" o con los reemplazos solicitados ahora sería \"lista_filesource\"\n",
    "lista_filesource"
   ]
  },
  {
   "cell_type": "code",
   "execution_count": null,
   "metadata": {},
   "outputs": [],
   "source": [
    "#hemos creado una funcion para limpiar el documento de espacios vacios en los string\n",
    "\n",
    "def limpiar_espacios(str):\n",
    "    lista_vacia= []\n",
    "    brocoli=str.split(\",\")\n",
    "    \n",
    "    for i in brocoli :\n",
    "        final= i.strip()\n",
    "        lista_vacia.append(final)\n",
    "    return \" \".join(lista_vacia)\n",
    "\n",
    "    \n",
    "#En nuestra lista definitiva estara la lista de elementos ya limpios    \n",
    "\n",
    "    "
   ]
  },
  {
   "cell_type": "code",
   "execution_count": null,
   "metadata": {},
   "outputs": [],
   "source": [
    "#Creamos la variable \"limpio\" para almacenar el resultado de la lista limpia final. Usamos str para convertiro a string\n",
    "limpio = limpiar_espacios(str(lista_filesource))\n",
    "limpio"
   ]
  },
  {
   "cell_type": "markdown",
   "metadata": {},
   "source": []
  },
  {
   "cell_type": "markdown",
   "metadata": {},
   "source": []
  }
 ],
 "metadata": {
  "kernelspec": {
   "display_name": "Python 3.9.7 ('base')",
   "language": "python",
   "name": "python3"
  },
  "language_info": {
   "codemirror_mode": {
    "name": "ipython",
    "version": 3
   },
   "file_extension": ".py",
   "mimetype": "text/x-python",
   "name": "python",
   "nbconvert_exporter": "python",
   "pygments_lexer": "ipython3",
   "version": "3.9.7"
  },
  "orig_nbformat": 4,
  "vscode": {
   "interpreter": {
    "hash": "ebacf0c690606339d2819fda86ce84d5dc8f19bdafd30d1cf039ac39003e3ee9"
   }
  }
 },
 "nbformat": 4,
 "nbformat_minor": 2
}
