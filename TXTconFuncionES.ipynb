{
 "cells": [
  {
   "cell_type": "markdown",
   "metadata": {},
   "source": [
    "## Lectura documento txt"
   ]
  },
  {
   "cell_type": "code",
   "execution_count": 1,
   "metadata": {},
   "outputs": [],
   "source": [
    "with open('data_txt_reorder.txt','r') as file:\n",
    "    file_source = file.readlines() # Es una lista que cada línea del fichero txt como un string de todos los datos."
   ]
  },
  {
   "cell_type": "markdown",
   "metadata": {},
   "source": [
    "Hemos abierto el archivo txt y lo hemos guardado en file_source"
   ]
  },
  {
   "cell_type": "markdown",
   "metadata": {},
   "source": [
    "## Realizaremos los cambios pedidos:\n",
    "\n",
    "-Contiene espacios extra en algunos strings, que deben ser eliminados\n",
    "\n",
    "-Contiene elementos como '\\n' que deben ser eliminados\n",
    "\n",
    "-Contiene elementos como '<' que deben ser cambiados por 'under'\n",
    "\n",
    "-Contiene elementos como null, que deben ser cambiados por 'NULL'"
   ]
  },
  {
   "cell_type": "code",
   "execution_count": 2,
   "metadata": {},
   "outputs": [],
   "source": [
    "#Hacemos una copia del archivo para trabajar con el\n",
    "copia1 = file_source.copy()\n"
   ]
  },
  {
   "cell_type": "code",
   "execution_count": 3,
   "metadata": {},
   "outputs": [],
   "source": [
    "#Creamos una lista vacia para apendear los resultados de nuestra funcion de \"reemplazo\"\n",
    "\n",
    "\n",
    "#hacemos una funcion para poder usar replace en todos los elementos de la lista\n",
    "\n",
    "def limpieza_txt (lista):\n",
    "    lista_filesource = []\n",
    "    for i in lista:\n",
    "        x = i.replace(\"\\n\", \"\").replace(\"null\", \"NULL\").replace(\"<\", \"under\")\n",
    "        lista_filesource.append(x)\n",
    "    return lista_filesource"
   ]
  },
  {
   "cell_type": "code",
   "execution_count": 4,
   "metadata": {},
   "outputs": [],
   "source": [
    "lista_sin_nulos = limpieza_txt(copia1)"
   ]
  },
  {
   "cell_type": "code",
   "execution_count": 5,
   "metadata": {},
   "outputs": [
    {
     "data": {
      "text/plain": [
       "'index_sql;Q3;Q4;Q5;Q6;Q7;Q8;Q9;Q11;Q12;Q13;Q14;Q15;Q16;Q17;Q20;Q21;Q22;Q23;Q24;Q25;Q26;Q32;Q33;Q34;Q35;Q41'"
      ]
     },
     "execution_count": 5,
     "metadata": {},
     "output_type": "execute_result"
    }
   ],
   "source": [
    "lista_sin_nulos[0]"
   ]
  },
  {
   "cell_type": "code",
   "execution_count": 24,
   "metadata": {},
   "outputs": [],
   "source": [
    "def limpiar_espacios_final(mari):\n",
    "    lista_don_limpio = []\n",
    "    for fila in mari:\n",
    "        fila_lista  = fila.split(\";\")\n",
    "        lista_sin_espacios = []\n",
    "        for palabra in fila_lista:\n",
    "\n",
    "            palabra_strip = palabra.strip()\n",
    "            lista_sin_espacios.append(palabra_strip)\n",
    "        lista_don_limpio.append(\";\".join(lista_sin_espacios))\n",
    "\n",
    "    return lista_don_limpio\n",
    "    "
   ]
  },
  {
   "cell_type": "code",
   "execution_count": 26,
   "metadata": {},
   "outputs": [
    {
     "data": {
      "text/plain": [
       "['1;Indonesia;Master’s degree;Program/Project Manager;20+ years;NULL, SQL, C, C++, Java;Python;NULL,   Notepad++  ,  Jupyter Notebook;A cloud computing platform (AWS, Azure, GCP, hosted notebooks, etc);NULL, None;Never;Matplotlib;Under 1 year;Scikit-learn;Linear or Logistic Regression, Decision Trees or Random Forests;Manufacturing/Fabrication;1000-9,999 employees;1-2;We are exploring ML methods (and may one day put a model into production);NULL, Build and/or run the data infrastructure that my business uses for storing, analyzing, and operationalizing data;60,000-69,999;$0 ($USD);;;;;Advanced statistical software (SPSS, SAS, etc.)',\n",
       " '2;Pakistan;Master’s degree;Software Engineer;1-3 years;Python, C++, Java;Python;NULL,  PyCharm ,  Jupyter Notebook, Other;A laptop;NULL, Other;Never;Matplotlib;I do not use machine learning methods;;;Academics/Education;1000-9,999 employees;0;I do not know;NULL, None of these activities are an important part of my role at work;$0-999;$0 ($USD);MySQL , MongoDB;MySQL;NULL, None;;Basic statistical software (Microsoft Excel, Google Sheets, etc.)',\n",
       " '3;Mexico;Doctoral degree;Research Scientist;20+ years;Python;Python;NULL,   Spyder  ,  Jupyter Notebook;A cloud computing platform (AWS, Azure, GCP, hosted notebooks, etc);NVIDIA GPUs;More than 25 times;Matplotlib;5-10 years;Scikit-learn ,   TensorFlow ,  Keras;NULL, Dense Neural Networks (MLPs, etc), Convolutional Neural Networks, Recurrent Neural Networks;Academics/Education;1000-9,999 employees;0;I do not know;NULL, Do research that advances the state of the art of machine learning;30,000-39,999;$0 ($USD);;;;;Local development environments (RStudio, JupyterLab, etc.)']"
      ]
     },
     "execution_count": 26,
     "metadata": {},
     "output_type": "execute_result"
    }
   ],
   "source": [
    "lista_don_limpio"
   ]
  },
  {
   "cell_type": "code",
   "execution_count": 29,
   "metadata": {},
   "outputs": [
    {
     "name": "stdout",
     "output_type": "stream",
     "text": [
      "('1', 'Indonesia', 'Master’s degree', 'Program/Project Manager', '20+ years', 'NULL, SQL, C, C++, Java', 'Python', 'NULL,   Notepad++  ,  Jupyter Notebook', 'A cloud computing platform (AWS, Azure, GCP, hosted notebooks, etc)', 'NULL, None', 'Never', 'Matplotlib', 'Under 1 year', 'Scikit-learn', 'Linear or Logistic Regression, Decision Trees or Random Forests', 'Manufacturing/Fabrication', '1000-9,999 employees', '1-2', 'We are exploring ML methods (and may one day put a model into production)', 'NULL, Build and/or run the data infrastructure that my business uses for storing, analyzing, and operationalizing data', '60,000-69,999', '$0 ($USD)', '', '', '', '', 'Advanced statistical software (SPSS, SAS, etc.)')\n",
      "('2', 'Pakistan', 'Master’s degree', 'Software Engineer', '1-3 years', 'Python, C++, Java', 'Python', 'NULL,  PyCharm ,  Jupyter Notebook, Other', 'A laptop', 'NULL, Other', 'Never', 'Matplotlib', 'I do not use machine learning methods', '', '', 'Academics/Education', '1000-9,999 employees', '0', 'I do not know', 'NULL, None of these activities are an important part of my role at work', '$0-999', '$0 ($USD)', 'MySQL , MongoDB', 'MySQL', 'NULL, None', '', 'Basic statistical software (Microsoft Excel, Google Sheets, etc.)')\n",
      "('3', 'Mexico', 'Doctoral degree', 'Research Scientist', '20+ years', 'Python', 'Python', 'NULL,   Spyder  ,  Jupyter Notebook', 'A cloud computing platform (AWS, Azure, GCP, hosted notebooks, etc)', 'NVIDIA GPUs', 'More than 25 times', 'Matplotlib', '5-10 years', 'Scikit-learn ,   TensorFlow ,  Keras', 'NULL, Dense Neural Networks (MLPs, etc), Convolutional Neural Networks, Recurrent Neural Networks', 'Academics/Education', '1000-9,999 employees', '0', 'I do not know', 'NULL, Do research that advances the state of the art of machine learning', '30,000-39,999', '$0 ($USD)', '', '', '', '', 'Local development environments (RStudio, JupyterLab, etc.)')\n"
     ]
    }
   ],
   "source": [
    "lista_sql =[] \n",
    "for i in lista_don_limpio:\n",
    "    print(tuple(i.split(\";\")))\n",
    "    lista_sql.append(tuple(i.split(\";\")))"
   ]
  },
  {
   "cell_type": "code",
   "execution_count": 31,
   "metadata": {},
   "outputs": [
    {
     "name": "stdout",
     "output_type": "stream",
     "text": [
      "[('1', 'Indonesia', 'Master’s degree', 'Program/Project Manager', '20+ years', 'NULL, SQL, C, C++, Java', 'Python', 'NULL,   Notepad++  ,  Jupyter Notebook', 'A cloud computing platform (AWS, Azure, GCP, hosted notebooks, etc)', 'NULL, None', 'Never', 'Matplotlib', 'Under 1 year', 'Scikit-learn', 'Linear or Logistic Regression, Decision Trees or Random Forests', 'Manufacturing/Fabrication', '1000-9,999 employees', '1-2', 'We are exploring ML methods (and may one day put a model into production)', 'NULL, Build and/or run the data infrastructure that my business uses for storing, analyzing, and operationalizing data', '60,000-69,999', '$0 ($USD)', '', '', '', '', 'Advanced statistical software (SPSS, SAS, etc.)'), ('2', 'Pakistan', 'Master’s degree', 'Software Engineer', '1-3 years', 'Python, C++, Java', 'Python', 'NULL,  PyCharm ,  Jupyter Notebook, Other', 'A laptop', 'NULL, Other', 'Never', 'Matplotlib', 'I do not use machine learning methods', '', '', 'Academics/Education', '1000-9,999 employees', '0', 'I do not know', 'NULL, None of these activities are an important part of my role at work', '$0-999', '$0 ($USD)', 'MySQL , MongoDB', 'MySQL', 'NULL, None', '', 'Basic statistical software (Microsoft Excel, Google Sheets, etc.)'), ('3', 'Mexico', 'Doctoral degree', 'Research Scientist', '20+ years', 'Python', 'Python', 'NULL,   Spyder  ,  Jupyter Notebook', 'A cloud computing platform (AWS, Azure, GCP, hosted notebooks, etc)', 'NVIDIA GPUs', 'More than 25 times', 'Matplotlib', '5-10 years', 'Scikit-learn ,   TensorFlow ,  Keras', 'NULL, Dense Neural Networks (MLPs, etc), Convolutional Neural Networks, Recurrent Neural Networks', 'Academics/Education', '1000-9,999 employees', '0', 'I do not know', 'NULL, Do research that advances the state of the art of machine learning', '30,000-39,999', '$0 ($USD)', '', '', '', '', 'Local development environments (RStudio, JupyterLab, etc.)')]\n"
     ]
    }
   ],
   "source": [
    "print(lista_sql)"
   ]
  },
  {
   "cell_type": "code",
   "execution_count": null,
   "metadata": {},
   "outputs": [],
   "source": []
  },
  {
   "cell_type": "code",
   "execution_count": null,
   "metadata": {},
   "outputs": [],
   "source": [
    "#Comprobamos que los cambios de han realizado, nuestra lista \"limpia\" o con los reemplazos solicitados ahora sería \"lista_filesource\"\n",
    "lista_filesource"
   ]
  },
  {
   "cell_type": "markdown",
   "metadata": {},
   "source": []
  },
  {
   "cell_type": "markdown",
   "metadata": {},
   "source": []
  }
 ],
 "metadata": {
  "kernelspec": {
   "display_name": "Python 3.9.7 ('base')",
   "language": "python",
   "name": "python3"
  },
  "language_info": {
   "codemirror_mode": {
    "name": "ipython",
    "version": 3
   },
   "file_extension": ".py",
   "mimetype": "text/x-python",
   "name": "python",
   "nbconvert_exporter": "python",
   "pygments_lexer": "ipython3",
   "version": "3.9.7"
  },
  "orig_nbformat": 4,
  "vscode": {
   "interpreter": {
    "hash": "ebacf0c690606339d2819fda86ce84d5dc8f19bdafd30d1cf039ac39003e3ee9"
   }
  }
 },
 "nbformat": 4,
 "nbformat_minor": 2
}
